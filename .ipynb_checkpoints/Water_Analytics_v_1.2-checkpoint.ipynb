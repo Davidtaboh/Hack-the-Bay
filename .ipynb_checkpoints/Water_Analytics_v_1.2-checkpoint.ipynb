{
 "cells": [
  {
   "cell_type": "code",
   "execution_count": 1,
   "metadata": {},
   "outputs": [
    {
     "name": "stderr",
     "output_type": "stream",
     "text": [
      "/Users/josephgeglia/opt/anaconda3/lib/python3.7/site-packages/IPython/core/interactiveshell.py:3058: DtypeWarning: Columns (1,7) have mixed types. Specify dtype option on import or set low_memory=False.\n",
      "  interactivity=interactivity, compiler=compiler, result=result)\n"
     ]
    }
   ],
   "source": [
    "import pandas as pd\n",
    "import numpy as np\n",
    "import json as js\n",
    "from datetime import datetime\n",
    "from dateutil.relativedelta import relativedelta\n",
    "\n",
    "#read in csv and/or dataset\n",
    "water_df = pd.read_csv('../SourceMaterial/Measures/water_temps.csv')\n",
    "ph_df = pd.read_csv('../SourceMaterial/Measures/ph.csv')\n",
    "conductivity_df = pd.read_csv('../SourceMaterial/Measures/conductivity.csv')\n",
    "water_df = water_df.dropna()\n",
    "ph_df = ph_df.dropna()\n",
    "conductivity_df = conductivity_df.dropna()\n",
    "df_list = [water_df, ph_df, conductivity_df]\n",
    "#order by HUC then Date\n",
    "for dframe in df_list:\n",
    "    dframe.sort_values(by=['HUCNAME_', 'Date'])\n",
    "\n",
    "hucs = water_df['HUCNAME_'].unique()\n",
    "results = []\n",
    "result_df_list = []\n",
    "result_dict = {}\n",
    "key_list = ['water', 'ph', 'conductivity']\n",
    "z=0"
   ]
  },
  {
   "cell_type": "code",
   "execution_count": 2,
   "metadata": {},
   "outputs": [],
   "source": [
    "def checkdates(working_df, huc):\n",
    "    df = working_df.loc[working_df['HUCNAME_']==huc]\n",
    "    df['datetime'] = [datetime.strptime(value, '%m/%d/%Y') for value in df['Date']]\n",
    "    df = df.sort_values(by=['datetime'])\n",
    "    df['datediff'] = df['datetime'].diff()\n",
    "    datetimecol = df['datetime']\n",
    "    min_date = min(datetimecol)\n",
    "    max_date = max(datetimecol)\n",
    "    diff_years = relativedelta(max_date, min_date).years\n",
    "    df = df.dropna()\n",
    "    datedifcol = df['datediff'].dt.days\n",
    "    try:\n",
    "        max_diff = max(datedifcol)\n",
    "        if diff_years >=3 and max_diff <= 100:\n",
    "            datecheck = True\n",
    "        else:\n",
    "            datecheck = False\n",
    "    except:\n",
    "        datecheck = False\n",
    "        max_diff = None\n",
    "        \n",
    "    return datecheck, max_diff, max_date, min_date"
   ]
  },
  {
   "cell_type": "code",
   "execution_count": 3,
   "metadata": {},
   "outputs": [],
   "source": [
    "def split_quarters(df, huc):\n",
    "    #for each suitable HUC, split temps into quarters by date\n",
    "    df['month'] = [int(value[0:1]) for value in df['Date']]\n",
    "    df['year'] = [value[6:10] for value in df['Date']]\n",
    "    df['q'] = ''\n",
    "        \n",
    "    df['q'].loc[df['month'] <=3] = 'Q1'\n",
    "    df['q'].loc[df['month'] >=4] = 'Q2'\n",
    "    df['q'].loc[df['month'] >=7] = 'Q3'\n",
    "    df['q'].loc[df['month'] >=10] = 'Q4'\n",
    "        \n",
    "    df['Quarter'] = df['q'] + \" \"+ df['year']\n",
    "        \n",
    "    df.drop(columns = ['month', 'year'])\n",
    "        \n",
    "    #calculate variance or stdev of temps and avg temps for each quarter\n",
    "    quarters_list = df['Quarter'].unique()\n",
    "    return df, quarters_list\n",
    "    "
   ]
  },
  {
   "cell_type": "code",
   "execution_count": 4,
   "metadata": {},
   "outputs": [],
   "source": [
    "def analyze_df(df, quarters_list, huc):\n",
    "    for quarter in quarters_list:\n",
    "            quarter_df = df.loc[df['Quarter']==quarter]\n",
    "            values = [value for value in quarter_df['MeasureValue']]\n",
    "            variance = np.var(values)\n",
    "            stdev = np.std(values)\n",
    "            average = np.average(values)\n",
    "            max_val = max(values)\n",
    "            min_val = min(values)\n",
    "            result = {\n",
    "                'huc':huc, \n",
    "                'quarter': quarter, \n",
    "                'var' : variance, \n",
    "                'stdev' : stdev, \n",
    "                'avg' : average, \n",
    "                'max' : max_val, \n",
    "                'min' : min_val,\n",
    "                'max_time_diff': max_diff,\n",
    "                'max_date': max_date,\n",
    "                'min_date': min_date\n",
    "            }\n",
    "    return result"
   ]
  },
  {
   "cell_type": "code",
   "execution_count": 5,
   "metadata": {},
   "outputs": [
    {
     "name": "stdout",
     "output_type": "stream",
     "text": [
      "water\n"
     ]
    },
    {
     "name": "stderr",
     "output_type": "stream",
     "text": [
      "/Users/josephgeglia/opt/anaconda3/lib/python3.7/site-packages/ipykernel_launcher.py:3: SettingWithCopyWarning: \n",
      "A value is trying to be set on a copy of a slice from a DataFrame.\n",
      "Try using .loc[row_indexer,col_indexer] = value instead\n",
      "\n",
      "See the caveats in the documentation: http://pandas.pydata.org/pandas-docs/stable/user_guide/indexing.html#returning-a-view-versus-a-copy\n",
      "  This is separate from the ipykernel package so we can avoid doing imports until\n",
      "/Users/josephgeglia/opt/anaconda3/lib/python3.7/site-packages/pandas/core/indexing.py:205: SettingWithCopyWarning: \n",
      "A value is trying to be set on a copy of a slice from a DataFrame\n",
      "\n",
      "See the caveats in the documentation: http://pandas.pydata.org/pandas-docs/stable/user_guide/indexing.html#returning-a-view-versus-a-copy\n",
      "  self._setitem_with_indexer(indexer, value)\n"
     ]
    },
    {
     "name": "stdout",
     "output_type": "stream",
     "text": [
      "ph\n"
     ]
    },
    {
     "ename": "ValueError",
     "evalue": "min() arg is an empty sequence",
     "output_type": "error",
     "traceback": [
      "\u001b[0;31m---------------------------------------------------------------------------\u001b[0m",
      "\u001b[0;31mValueError\u001b[0m                                Traceback (most recent call last)",
      "\u001b[0;32m<ipython-input-5-168f3e5ce0cb>\u001b[0m in \u001b[0;36m<module>\u001b[0;34m\u001b[0m\n\u001b[1;32m      2\u001b[0m     \u001b[0mprint\u001b[0m\u001b[0;34m(\u001b[0m\u001b[0mkey_list\u001b[0m\u001b[0;34m[\u001b[0m\u001b[0mz\u001b[0m\u001b[0;34m]\u001b[0m\u001b[0;34m)\u001b[0m\u001b[0;34m\u001b[0m\u001b[0;34m\u001b[0m\u001b[0m\n\u001b[1;32m      3\u001b[0m     \u001b[0;32mfor\u001b[0m \u001b[0mhuc\u001b[0m \u001b[0;32min\u001b[0m \u001b[0mhucs\u001b[0m\u001b[0;34m:\u001b[0m\u001b[0;34m\u001b[0m\u001b[0;34m\u001b[0m\u001b[0m\n\u001b[0;32m----> 4\u001b[0;31m         \u001b[0mdatecheck\u001b[0m\u001b[0;34m,\u001b[0m \u001b[0mmax_diff\u001b[0m\u001b[0;34m,\u001b[0m \u001b[0mmax_date\u001b[0m\u001b[0;34m,\u001b[0m \u001b[0mmin_date\u001b[0m \u001b[0;34m=\u001b[0m \u001b[0mcheckdates\u001b[0m\u001b[0;34m(\u001b[0m\u001b[0mdframe\u001b[0m\u001b[0;34m,\u001b[0m \u001b[0mhuc\u001b[0m\u001b[0;34m)\u001b[0m\u001b[0;34m\u001b[0m\u001b[0;34m\u001b[0m\u001b[0m\n\u001b[0m\u001b[1;32m      5\u001b[0m         \u001b[0;32mif\u001b[0m \u001b[0mdatecheck\u001b[0m \u001b[0;34m==\u001b[0m \u001b[0;32mTrue\u001b[0m\u001b[0;34m:\u001b[0m\u001b[0;34m\u001b[0m\u001b[0;34m\u001b[0m\u001b[0m\n\u001b[1;32m      6\u001b[0m             \u001b[0mdf_quarters\u001b[0m\u001b[0;34m,\u001b[0m \u001b[0mquarters_list\u001b[0m \u001b[0;34m=\u001b[0m \u001b[0msplit_quarters\u001b[0m\u001b[0;34m(\u001b[0m\u001b[0mdframe\u001b[0m\u001b[0;34m,\u001b[0m \u001b[0mhuc\u001b[0m\u001b[0;34m)\u001b[0m\u001b[0;34m\u001b[0m\u001b[0;34m\u001b[0m\u001b[0m\n",
      "\u001b[0;32m<ipython-input-2-65518b0784a8>\u001b[0m in \u001b[0;36mcheckdates\u001b[0;34m(working_df, huc)\u001b[0m\n\u001b[1;32m      5\u001b[0m     \u001b[0mdf\u001b[0m\u001b[0;34m[\u001b[0m\u001b[0;34m'datediff'\u001b[0m\u001b[0;34m]\u001b[0m \u001b[0;34m=\u001b[0m \u001b[0mdf\u001b[0m\u001b[0;34m[\u001b[0m\u001b[0;34m'datetime'\u001b[0m\u001b[0;34m]\u001b[0m\u001b[0;34m.\u001b[0m\u001b[0mdiff\u001b[0m\u001b[0;34m(\u001b[0m\u001b[0;34m)\u001b[0m\u001b[0;34m\u001b[0m\u001b[0;34m\u001b[0m\u001b[0m\n\u001b[1;32m      6\u001b[0m     \u001b[0mdatetimecol\u001b[0m \u001b[0;34m=\u001b[0m \u001b[0mdf\u001b[0m\u001b[0;34m[\u001b[0m\u001b[0;34m'datetime'\u001b[0m\u001b[0;34m]\u001b[0m\u001b[0;34m\u001b[0m\u001b[0;34m\u001b[0m\u001b[0m\n\u001b[0;32m----> 7\u001b[0;31m     \u001b[0mmin_date\u001b[0m \u001b[0;34m=\u001b[0m \u001b[0mmin\u001b[0m\u001b[0;34m(\u001b[0m\u001b[0mdatetimecol\u001b[0m\u001b[0;34m)\u001b[0m\u001b[0;34m\u001b[0m\u001b[0;34m\u001b[0m\u001b[0m\n\u001b[0m\u001b[1;32m      8\u001b[0m     \u001b[0mmax_date\u001b[0m \u001b[0;34m=\u001b[0m \u001b[0mmax\u001b[0m\u001b[0;34m(\u001b[0m\u001b[0mdatetimecol\u001b[0m\u001b[0;34m)\u001b[0m\u001b[0;34m\u001b[0m\u001b[0;34m\u001b[0m\u001b[0m\n\u001b[1;32m      9\u001b[0m     \u001b[0mdiff_years\u001b[0m \u001b[0;34m=\u001b[0m \u001b[0mrelativedelta\u001b[0m\u001b[0;34m(\u001b[0m\u001b[0mmax_date\u001b[0m\u001b[0;34m,\u001b[0m \u001b[0mmin_date\u001b[0m\u001b[0;34m)\u001b[0m\u001b[0;34m.\u001b[0m\u001b[0myears\u001b[0m\u001b[0;34m\u001b[0m\u001b[0;34m\u001b[0m\u001b[0m\n",
      "\u001b[0;31mValueError\u001b[0m: min() arg is an empty sequence"
     ]
    }
   ],
   "source": [
    "for dframe in df_list:\n",
    "    print(key_list[z])\n",
    "    for huc in hucs:\n",
    "        datecheck, max_diff, max_date, min_date = checkdates(dframe, huc)\n",
    "        if datecheck == True:\n",
    "            df_quarters, quarters_list = split_quarters(dframe, huc)\n",
    "            result = analyze_df(df_quarters, quarters_list, huc)\n",
    "            results.append(result)\n",
    "        else:\n",
    "            pass\n",
    "    result_df = pd.DataFrame(results)\n",
    "    result_df_list.append(result_df)\n",
    "    z+=1\n",
    "for n in len(key_list):\n",
    "    result_dict[key_list[n]] = result_df_list[n]\n",
    "            \n",
    "    "
   ]
  }
 ],
 "metadata": {
  "kernelspec": {
   "display_name": "Python 3",
   "language": "python",
   "name": "python3"
  },
  "language_info": {
   "codemirror_mode": {
    "name": "ipython",
    "version": 3
   },
   "file_extension": ".py",
   "mimetype": "text/x-python",
   "name": "python",
   "nbconvert_exporter": "python",
   "pygments_lexer": "ipython3",
   "version": "3.7.4"
  }
 },
 "nbformat": 4,
 "nbformat_minor": 2
}
